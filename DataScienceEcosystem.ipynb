{
 "cells": [
  {
   "cell_type": "markdown",
   "id": "0caebd08-8d88-4d99-85c4-2e27b3b43279",
   "metadata": {
    "tags": []
   },
   "source": [
    "# Data Science Tools and Ecosystem"
   ]
  },
  {
   "cell_type": "markdown",
   "id": "f09b3f75-824c-4ca4-bbfb-de3eee3cb2df",
   "metadata": {},
   "source": [
    "## Author: \n",
    "Patryk Mielniczek"
   ]
  },
  {
   "cell_type": "markdown",
   "id": "18157519-7be8-4384-893d-f320b7687dae",
   "metadata": {},
   "source": [
    "In this notebook, Data Science Tools and Ecosystem are summarized."
   ]
  },
  {
   "cell_type": "markdown",
   "id": "ac39c564-5aa3-40ca-988a-cda458003a34",
   "metadata": {},
   "source": [
    "**Objectives:**\n",
    "\n",
    "* List of popular Data Science languages\n",
    "* List of popular Data Science libraries\n",
    "* List of popular Data Science tools"
   ]
  },
  {
   "cell_type": "markdown",
   "id": "7c6645e7-8a36-43f6-ae4b-aa2c27be5505",
   "metadata": {},
   "source": [
    "Some of the popular languages that Data Scientists use are:\n",
    "1. Python\n",
    "2. SQL\n",
    "3. R\n",
    "4. Scala\n"
   ]
  },
  {
   "cell_type": "markdown",
   "id": "920c1ea4-c18e-4393-ac0c-5909e534e766",
   "metadata": {},
   "source": [
    "Some of the commonly used libraries used by Data Scientists include:\n",
    "1. Pandas\n",
    "2. NumPy\n",
    "3. matplotlib\n",
    "4. scikit-learn"
   ]
  },
  {
   "cell_type": "markdown",
   "id": "ca86105e-bf5a-4932-9946-12cbe1e87ce7",
   "metadata": {},
   "source": [
    "|Data Science Tools|\n",
    "|----|\n",
    "|VS Code|\n",
    "|JupyterLab|\n",
    "|Anaconda|"
   ]
  },
  {
   "cell_type": "markdown",
   "id": "941d5af8-6ef1-4d55-b470-675d1040a955",
   "metadata": {},
   "source": [
    "### Below are a few examples of evaluating arithmetic expressions in Python"
   ]
  },
  {
   "cell_type": "code",
   "execution_count": 2,
   "id": "55a29d74-03ff-4ac2-9228-4b37f75699db",
   "metadata": {},
   "outputs": [
    {
     "data": {
      "text/plain": [
       "17"
      ]
     },
     "execution_count": 2,
     "metadata": {},
     "output_type": "execute_result"
    }
   ],
   "source": [
    "# This a simple arithmetic expression to mutiply then add integers\n",
    "(3*4)+5"
   ]
  },
  {
   "cell_type": "code",
   "execution_count": 3,
   "id": "8d024fea-300e-4ec4-ba43-55358ee2488d",
   "metadata": {},
   "outputs": [
    {
     "data": {
      "text/plain": [
       "3.3333333333333335"
      ]
     },
     "execution_count": 3,
     "metadata": {},
     "output_type": "execute_result"
    }
   ],
   "source": [
    "# This will convert 200 minutes to hours by diving by 60\n",
    "200 /60"
   ]
  },
  {
   "cell_type": "code",
   "execution_count": null,
   "id": "8af48499-91ed-45ad-abc7-45e5d2fe415e",
   "metadata": {},
   "outputs": [],
   "source": []
  }
 ],
 "metadata": {
  "kernelspec": {
   "display_name": "Python",
   "language": "python",
   "name": "conda-env-python-py"
  },
  "language_info": {
   "codemirror_mode": {
    "name": "ipython",
    "version": 3
   },
   "file_extension": ".py",
   "mimetype": "text/x-python",
   "name": "python",
   "nbconvert_exporter": "python",
   "pygments_lexer": "ipython3",
   "version": "3.7.12"
  }
 },
 "nbformat": 4,
 "nbformat_minor": 5
}
